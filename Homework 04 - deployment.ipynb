{
 "cells": [
  {
   "cell_type": "markdown",
   "id": "d5e55472",
   "metadata": {},
   "source": [
    "# Q1. Notebook"
   ]
  },
  {
   "cell_type": "markdown",
   "id": "c59a4c93",
   "metadata": {},
   "source": [
    "What's the mean predicted duration for this dataset?"
   ]
  },
  {
   "cell_type": "markdown",
   "id": "70b94309",
   "metadata": {},
   "source": [
    "**16.19**"
   ]
  },
  {
   "cell_type": "markdown",
   "id": "dce7de24",
   "metadata": {},
   "source": [
    "# Q2. Preparing the output"
   ]
  },
  {
   "cell_type": "markdown",
   "id": "be7b7c86",
   "metadata": {},
   "source": [
    "What's the size of the output file?"
   ]
  },
  {
   "cell_type": "markdown",
   "id": "2c450884",
   "metadata": {},
   "source": [
    "**19M**"
   ]
  },
  {
   "cell_type": "markdown",
   "id": "4fa2b3fd",
   "metadata": {},
   "source": [
    "# Q3. Creating the scoring script"
   ]
  },
  {
   "cell_type": "markdown",
   "id": "63e6a7a7",
   "metadata": {},
   "source": [
    "Now let's turn the notebook into a script.\n",
    "Which command you need to execute for that?"
   ]
  },
  {
   "cell_type": "markdown",
   "id": "fd693114",
   "metadata": {
    "ExecuteTime": {
     "end_time": "2022-06-27T19:19:09.253481Z",
     "start_time": "2022-06-27T19:19:09.245232Z"
    }
   },
   "source": [
    "**jupyter nbconvert --to script hw4.ipynb**"
   ]
  },
  {
   "cell_type": "markdown",
   "id": "e1f7ae72",
   "metadata": {},
   "source": [
    "# Q4. Virtual environment"
   ]
  },
  {
   "cell_type": "markdown",
   "id": "14e01635",
   "metadata": {},
   "source": [
    "What's the first hash for the Scikit-Learn dependency?"
   ]
  },
  {
   "cell_type": "markdown",
   "id": "4552d7ed",
   "metadata": {},
   "source": [
    "**\"sha256:08ef968f6b72033c16c479c966bf37ccd49b06ea91b765e1cc27afefe723920b\"**"
   ]
  },
  {
   "cell_type": "markdown",
   "id": "2c6be709",
   "metadata": {},
   "source": [
    "# Q5. Parametrize the script"
   ]
  },
  {
   "cell_type": "markdown",
   "id": "1da77ae3",
   "metadata": {},
   "source": [
    "What's the mean predicted duration?"
   ]
  },
  {
   "cell_type": "markdown",
   "id": "4d165bee",
   "metadata": {},
   "source": [
    "**16.29**"
   ]
  },
  {
   "cell_type": "markdown",
   "id": "aa1760af",
   "metadata": {},
   "source": [
    "# Q6. Docker contaner"
   ]
  },
  {
   "cell_type": "markdown",
   "id": "ca0d2fd8",
   "metadata": {},
   "source": [
    "Now run the script with docker. What's the mean predicted duration for April 2021?"
   ]
  },
  {
   "cell_type": "markdown",
   "id": "f2423026",
   "metadata": {},
   "source": [
    "**9.96**"
   ]
  },
  {
   "cell_type": "markdown",
   "id": "e0c667ea",
   "metadata": {},
   "source": [
    "# Python script"
   ]
  },
  {
   "cell_type": "code",
   "execution_count": null,
   "id": "94171479",
   "metadata": {},
   "outputs": [],
   "source": [
    "#!/usr/bin/env python\n",
    "# coding: utf-8\n",
    "\n",
    "import sklearn\n",
    "import sys\n",
    "import pickle\n",
    "import pandas as pd\n",
    "\n",
    "\n",
    "def read_data(filename):\n",
    "    df = pd.read_parquet(filename)\n",
    "    df['duration'] = df.dropOff_datetime - df.pickup_datetime\n",
    "    df['duration'] = df.duration.dt.total_seconds() / 60\n",
    "    df = df[(df.duration >= 1) & (df.duration <= 60)].copy()\n",
    "    df[categorical] = df[categorical].fillna(-1).astype('int').astype('str')\n",
    "    return df\n",
    "\n",
    "\n",
    "if __name__ == '__main__':\n",
    "\n",
    "    year = int(sys.argv[1])\n",
    "    month = int(sys.argv[2])\n",
    "    taxi_type = 'fhv'\n",
    "\n",
    "    input_file = f'/workspace/{taxi_type}_tripdata_{year:04d}-{month:02d}.parquet'\n",
    "    output_file = f'output/{taxi_type}/{year:04d}-{month:02d}.parquet'\n",
    "\n",
    "    with open('/app/model.bin', 'rb') as f_in:\n",
    "        dv, lr = pickle.load(f_in)\n",
    "\n",
    "    categorical = ['PUlocationID', 'DOlocationID']\n",
    "\n",
    "    df = read_data(input_file)\n",
    "\n",
    "    dicts = df[categorical].to_dict(orient='records')\n",
    "    X_val = dv.transform(dicts)\n",
    "    y_pred = lr.predict(X_val)\n",
    "\n",
    "    df['ride_id'] = f'{year:04d}/{month:02d}_' + df.index.astype('str')\n",
    "\n",
    "    df_result = df[['ride_id', 'duration']]\n",
    "\n",
    "    df_result.to_parquet(\n",
    "        output_file,\n",
    "        engine='pyarrow',\n",
    "        compression=None,\n",
    "        index=False\n",
    "    )\n",
    "\n",
    "    print(y_pred.mean())"
   ]
  },
  {
   "cell_type": "markdown",
   "id": "5351fb59",
   "metadata": {},
   "source": [
    "# .dockerfile"
   ]
  },
  {
   "cell_type": "code",
   "execution_count": null,
   "id": "a63ed108",
   "metadata": {},
   "outputs": [],
   "source": [
    "FROM agrigorev/zoomcamp-model:mlops-3.9.7-slim\n",
    "RUN apt-get update && apt-get install -y \n",
    "WORKDIR /workspace\n",
    "COPY requirements.txt /workspace/\n",
    "RUN pip install -r requirements.txt\n",
    "CMD '/bin/bash'"
   ]
  },
  {
   "cell_type": "markdown",
   "id": "76984efd",
   "metadata": {},
   "source": [
    "# requirements.txt"
   ]
  },
  {
   "cell_type": "code",
   "execution_count": null,
   "id": "c6abd484",
   "metadata": {},
   "outputs": [],
   "source": [
    "numpy==1.22.4\n",
    "pandas==1.4.2\n",
    "scikit-learn==1.0.2\n",
    "scipy==1.8.1\n",
    "flask==2.1.2\n",
    "pyarrow"
   ]
  }
 ],
 "metadata": {
  "kernelspec": {
   "display_name": "Python 3 (ipykernel)",
   "language": "python",
   "name": "python3"
  },
  "language_info": {
   "codemirror_mode": {
    "name": "ipython",
    "version": 3
   },
   "file_extension": ".py",
   "mimetype": "text/x-python",
   "name": "python",
   "nbconvert_exporter": "python",
   "pygments_lexer": "ipython3",
   "version": "3.9.7"
  },
  "toc": {
   "base_numbering": 1,
   "nav_menu": {},
   "number_sections": true,
   "sideBar": true,
   "skip_h1_title": false,
   "title_cell": "Table of Contents",
   "title_sidebar": "Contents",
   "toc_cell": false,
   "toc_position": {},
   "toc_section_display": true,
   "toc_window_display": false
  }
 },
 "nbformat": 4,
 "nbformat_minor": 5
}
